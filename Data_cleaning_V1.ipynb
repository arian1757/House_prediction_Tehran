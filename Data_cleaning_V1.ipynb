{
 "cells": [
  {
   "cell_type": "code",
   "execution_count": 36,
   "metadata": {},
   "outputs": [],
   "source": [
    "import numpy as np\n",
    "import pandas as pd \n",
    "import matplotlib.pyplot as plt\n",
    "import seaborn as sns\n",
    "from unidecode import unidecode\n",
    "\n"
   ]
  },
  {
   "cell_type": "code",
   "execution_count": 37,
   "metadata": {},
   "outputs": [],
   "source": [
    "df1=pd.read_csv('/Users/arianzarifian/Downloads/Ml-Project-2/dataset.csv',index_col=0)\n",
    "df2=pd.read_csv('/Users/arianzarifian/Downloads/Ml-Project-2/dataset1.csv',index_col=0)\n",
    "df3=pd.read_csv('/Users/arianzarifian/Downloads/Ml-Project-2/dataset2.csv',index_col=0)\n",
    "\n",
    "\n",
    "\n"
   ]
  },
  {
   "cell_type": "code",
   "execution_count": 38,
   "metadata": {},
   "outputs": [],
   "source": [
    "df=pd.concat([df1,df2,df3],ignore_index=True)\n"
   ]
  },
  {
   "cell_type": "code",
   "execution_count": 39,
   "metadata": {},
   "outputs": [
    {
     "name": "stdout",
     "output_type": "stream",
     "text": [
      "<class 'pandas.core.frame.DataFrame'>\n",
      "RangeIndex: 31348 entries, 0 to 31347\n",
      "Data columns (total 9 columns):\n",
      " #   Column     Non-Null Count  Dtype \n",
      "---  ------     --------------  ----- \n",
      " 0   district   31348 non-null  object\n",
      " 1   area       31348 non-null  object\n",
      " 2   year       31348 non-null  object\n",
      " 3   rooms      31348 non-null  object\n",
      " 4   value      31348 non-null  object\n",
      " 5   floor      31348 non-null  object\n",
      " 6   elevator   31348 non-null  object\n",
      " 7   parking    31348 non-null  object\n",
      " 8   warehouse  31348 non-null  bool  \n",
      "dtypes: bool(1), object(8)\n",
      "memory usage: 1.9+ MB\n"
     ]
    }
   ],
   "source": [
    "df.info()\n"
   ]
  },
  {
   "cell_type": "code",
   "execution_count": 40,
   "metadata": {},
   "outputs": [],
   "source": [
    "df.value=df.value.apply(lambda x:x.replace('٬',''))"
   ]
  },
  {
   "cell_type": "code",
   "execution_count": 41,
   "metadata": {},
   "outputs": [],
   "source": [
    "for i in ['area','year','rooms','floor','value']:\n",
    "    df[i]=df[i].apply(lambda x:unidecode(x))\n"
   ]
  },
  {
   "cell_type": "code",
   "execution_count": 42,
   "metadata": {},
   "outputs": [],
   "source": [
    "indexes=df[df['value']=='nmysh'].index\n",
    "\n",
    "df=df.drop(indexes)\n"
   ]
  },
  {
   "cell_type": "code",
   "execution_count": 51,
   "metadata": {},
   "outputs": [],
   "source": [
    "df.drop(df[df['year']=='qbl z 1370'].index,inplace=True)\n",
    "df.loc[df['rooms']=='bdwn tq','rooms']='0'\n"
   ]
  },
  {
   "cell_type": "code",
   "execution_count": 54,
   "metadata": {},
   "outputs": [],
   "source": [
    "def make_integer(column_name):\n",
    "    \n",
    "        df[column_name]=df[column_name].astype(str).astype(int)\n",
    "    \n",
    "for i in ['area','year','rooms','value']:\n",
    "    make_integer(i)"
   ]
  },
  {
   "cell_type": "code",
   "execution_count": 55,
   "metadata": {},
   "outputs": [],
   "source": [
    "df.floor=df.floor.apply(lambda x:x.replace('byshtr',''))\n",
    "df.floor=df.floor.apply(lambda x:x.replace('z  z','z'))"
   ]
  },
  {
   "cell_type": "code",
   "execution_count": 56,
   "metadata": {},
   "outputs": [],
   "source": [
    "df=df.loc[df.floor.astype(str).str.match(r'\\d')]"
   ]
  },
  {
   "cell_type": "code",
   "execution_count": 57,
   "metadata": {},
   "outputs": [
    {
     "data": {
      "text/plain": [
       "array(['4 z 5', '3 z 6', '10', '2', '6', '1 z 4', '9', '2 z 5', '5', '1',\n",
       "       '1 z 5', '2 z 6', '3', '6 z 7', '3 z 10', '13 z 17', '4', '5 z 5',\n",
       "       '2 z 4', '18 z 18', '1 z 3', '6 z 8', '3 z 5', '3 z 4', '8 z 21',\n",
       "       '7 z 9', '21', '10 z 18', '5 z 6', '4 z 2', '4 z 6', '11 z 21',\n",
       "       '15 z 25', '3 z 9', '15 z 21', '7', '5 z 7', '4 z 4', '7 z 12',\n",
       "       '3 z 7', '16', '8', '22', '12', '9 z 11', '4 z 7', '13', '2 z 3',\n",
       "       '23', '4 z 10', '5 z 13', '11', '18', '20', '12 z 21', '4 z 8',\n",
       "       '15', '1 z 12', '12 z 14', '17 z 6', '4 z 9', '1 z 6', '2 z 25',\n",
       "       '5 z 12', '9 z 15', '6 z 11', '6 z 6', '1 z 8', '13 z 15', '2 z 7',\n",
       "       '3 z 20', '3 z 3', '8 z 30', '14', '8 z 11', '4 z 18', '14 z 17',\n",
       "       '5 z 4', '6 z 5', '10 z 20', '2 z 15', '4 z 11', '10 z 11',\n",
       "       '3 z 8', '6 z 21', '4 z 24', '1 z 10', '17', '11 z 15', '9 z 10',\n",
       "       '7 z 7', '26 z 29', '29 z 29', '12 z 30', '8 z 16', '28',\n",
       "       '11 z 12', '7 z 2', '22 z 30', '25 z 29', '30', '24', '4 z 13',\n",
       "       '2 z 2', '8 z 9', '3 z 22', '29', '20 z 21', '12 z 16', '24 z 30',\n",
       "       '2 z 10', '19', '5 z 10', '5 z 11', '3 z 2', '11 z 11', '7 z 10',\n",
       "       '7 z 8', '21 z 21', '12 z 12', '10 z 10', '16 z 16', '8 z 15',\n",
       "       '5 z 15', '11 z 22', '10 z 15', '27', '12 z 15', '6 z 25',\n",
       "       '1 z 14', '10 z 12', '7 z 11', '4 z 21', '15 z 17', '15 z 15',\n",
       "       '8 z 18', '5 z 30', '10 z 16', '7 z 15', '5 z 21', '11 z 16',\n",
       "       '8 z 12', '7 z 21', '8 z 10', '8 z 8', '2 z 8', '13 z 30',\n",
       "       '3 z 15', '6 z 13', '10 z 13', '3 z 11', '14 z 15', '13 z 18',\n",
       "       '2 z 11', '9 z 14', '1 z 7', '23 z 30', '4 z 19', '9 z 12', '25',\n",
       "       '25 z 30', '1 z 2', '10 z 24', '5 z 8', '27 z 29', '16 z 25',\n",
       "       '10 z 25', '11 z 14', '24 z 25', '26', '1 z 15', '2 z 14', '9 z 9',\n",
       "       '11 z 13', '6 z 10', '7 z 17', '14 z 14', '6 z 9', '23 z 26',\n",
       "       '4 z 17', '7 z 18', '14 z 21', '3 z 12', '4 z 16', '13 z 16',\n",
       "       '5 z 14', '21 z 29', '16 z 29', '30 z 30', '11 z 18', '12 z 22',\n",
       "       '3 z 19', '2 z 12', '7 z 22', '13 z 21', '19 z 26', '28 z 29',\n",
       "       '9 z 17', '9 z 13', '8 z 22', '12 z 13', '19 z 21', '11 z 23',\n",
       "       '17 z 21', '1 z 9', '6 z 2', '6 z 12', '18 z 21', '16 z 21',\n",
       "       '7 z 16', '9 z 18', '4 z 12', '10 z 6', '5 z 9', '1 z 18',\n",
       "       '21 z 25', '23 z 25', '14 z 18', '18 z 30', '15 z 19', '10 z 17',\n",
       "       '1 z 11', '20 z 25', '15 z 16', '8 z 17', '17 z 19', '1 z 19',\n",
       "       '25 z 25', '3 z 16', '8 z 5', '13 z 13', '16 z 20', '11 z 19',\n",
       "       '7 z 5', '10 z 14', '2 z 9', '6 z 29', '9 z 25', '11 z 30',\n",
       "       '1 z 25', '3 z 21', '10 z 9', '10 z 21', '4 z 14', '14 z 16',\n",
       "       '6 z 15', '11 z 29', '18 z 20', '29 z 30', '9 z 16', '4 z 27',\n",
       "       '11 z 27', '5 z 25', '21 z 22', '1 z 17', '20 z 20', '6 z 20',\n",
       "       '22 z 22', '5 z 20', '20 z 22', '26 z 22', '16 z 22', '7 z 23',\n",
       "       '23 z 23', '12 z 23', '4 z 3', '8 z 13', '12 z 17', '1 z 30',\n",
       "       '18 z 28', '16 z 17', '21 z 23', '2 z 19', '7 z 4', '17 z 17',\n",
       "       '12 z 20', '12 z 18', '3 z 18', '14 z 22', '16 z 30', '7 z 19',\n",
       "       '3 z 13', '8 z 20', '1 z 21', '2 z 21', '16 z 18', '16 z 19',\n",
       "       '13 z 23', '7 z 30', '3 z 25', '14 z 25', '28 z 30', '13 z 20',\n",
       "       '6 z 14', '4 z 15', '14 z 19', '5 z 2', '21 z 24', '15 z 30',\n",
       "       '6 z 30', '13 z 14', '1 z 22', '5 z 16', '14 z 28', '10 z 8',\n",
       "       '14 z 20', '5 z 17', '6 z 18', '2 z 30', '12 z 19', '9 z 20',\n",
       "       '6 z 23', '15 z 18', '13 z 25', '7 z 13', '4 z 30', '1 z 16',\n",
       "       '9 z 19', '19 z 20', '18 z 25', '5 z 19', '14 z 27', '12 z 28',\n",
       "       '17 z 18', '2 z 29', '22 z 25', '7 z 25', '8 z 19', '11 z 17'],\n",
       "      dtype=object)"
      ]
     },
     "execution_count": 57,
     "metadata": {},
     "output_type": "execute_result"
    }
   ],
   "source": [
    "df.floor.unique()"
   ]
  },
  {
   "cell_type": "code",
   "execution_count": 58,
   "metadata": {},
   "outputs": [],
   "source": [
    "df.floor=df.floor.astype(str)\n",
    "df[['floor1','floor2','floor3']]=df[df.floor.str.contains('z')==True].floor.str.split(' ',expand=True)\n"
   ]
  },
  {
   "cell_type": "code",
   "execution_count": 59,
   "metadata": {},
   "outputs": [
    {
     "data": {
      "text/plain": [
       "array(['4', '3', nan, '1', '2', '6', '13', '5', '18', '8', '7', '10',\n",
       "       '11', '15', '9', '12', '17', '14', '26', '29', '22', '25', '20',\n",
       "       '24', '21', '16', '23', '27', '30', '19', '28'], dtype=object)"
      ]
     },
     "execution_count": 59,
     "metadata": {},
     "output_type": "execute_result"
    }
   ],
   "source": [
    "df.floor1.unique()"
   ]
  },
  {
   "cell_type": "code",
   "execution_count": 60,
   "metadata": {},
   "outputs": [
    {
     "data": {
      "text/plain": [
       "array(['5', '6', nan, '4', '7', '10', '17', '18', '3', '8', '21', '9',\n",
       "       '2', '25', '12', '11', '13', '14', '15', '20', '30', '24', '29',\n",
       "       '16', '22', '19', '26', '23', '27', '28'], dtype=object)"
      ]
     },
     "execution_count": 60,
     "metadata": {},
     "output_type": "execute_result"
    }
   ],
   "source": [
    "df.floor3.unique()"
   ]
  },
  {
   "cell_type": "code",
   "execution_count": 61,
   "metadata": {},
   "outputs": [],
   "source": [
    "df.floor1=df.floor1.astype(str)\n",
    "df.floor3=df.floor3.astype(str)\n"
   ]
  },
  {
   "cell_type": "code",
   "execution_count": 62,
   "metadata": {},
   "outputs": [
    {
     "data": {
      "text/plain": [
       "array(['z', nan], dtype=object)"
      ]
     },
     "execution_count": 62,
     "metadata": {},
     "output_type": "execute_result"
    }
   ],
   "source": [
    "df.floor2.unique()"
   ]
  },
  {
   "cell_type": "code",
   "execution_count": 63,
   "metadata": {},
   "outputs": [],
   "source": [
    "df=df.reset_index(drop=True)"
   ]
  },
  {
   "cell_type": "code",
   "execution_count": 64,
   "metadata": {},
   "outputs": [],
   "source": [
    "\n",
    "\n",
    "for i in df[df.floor.str.contains('z')==True].index:\n",
    "    \n",
    "        \n",
    "        if df.iloc[i]['floor1']<= df.iloc[i]['floor3']:\n",
    "\n",
    "            df.loc[i,'floor']=df.iloc[i]['floor1']\n",
    "        else:\n",
    "            df.loc[i,'floor']=df.iloc[i]['floor3']\n",
    "    \n",
    "    "
   ]
  },
  {
   "cell_type": "code",
   "execution_count": 65,
   "metadata": {},
   "outputs": [
    {
     "data": {
      "text/plain": [
       "array(['4', '3', '10', '2', '6', '1', '9', '5', '13', '18', '21', '7',\n",
       "       '11', '15', '12', '16', '8', '22', '23', '20', '17', '30', '14',\n",
       "       '24', '26', '29', '28', '25', '19', '27'], dtype=object)"
      ]
     },
     "execution_count": 65,
     "metadata": {},
     "output_type": "execute_result"
    }
   ],
   "source": [
    "df.floor.unique()"
   ]
  },
  {
   "cell_type": "code",
   "execution_count": 66,
   "metadata": {},
   "outputs": [],
   "source": [
    "df.drop(['floor1','floor2','floor3'],axis=1,inplace=True)"
   ]
  },
  {
   "cell_type": "code",
   "execution_count": 67,
   "metadata": {},
   "outputs": [],
   "source": [
    "make_integer('floor')"
   ]
  },
  {
   "cell_type": "code",
   "execution_count": 68,
   "metadata": {},
   "outputs": [],
   "source": [
    "df.elevator=df.elevator.astype(bool)\n",
    "df.parking=df.parking.astype(bool)\n",
    "df.warehouse=df.warehouse.astype(bool)"
   ]
  },
  {
   "cell_type": "code",
   "execution_count": 69,
   "metadata": {},
   "outputs": [
    {
     "data": {
      "text/html": [
       "<div>\n",
       "<style scoped>\n",
       "    .dataframe tbody tr th:only-of-type {\n",
       "        vertical-align: middle;\n",
       "    }\n",
       "\n",
       "    .dataframe tbody tr th {\n",
       "        vertical-align: top;\n",
       "    }\n",
       "\n",
       "    .dataframe thead th {\n",
       "        text-align: right;\n",
       "    }\n",
       "</style>\n",
       "<table border=\"1\" class=\"dataframe\">\n",
       "  <thead>\n",
       "    <tr style=\"text-align: right;\">\n",
       "      <th></th>\n",
       "      <th>district</th>\n",
       "      <th>area</th>\n",
       "      <th>year</th>\n",
       "      <th>rooms</th>\n",
       "      <th>value</th>\n",
       "      <th>floor</th>\n",
       "      <th>elevator</th>\n",
       "      <th>parking</th>\n",
       "      <th>warehouse</th>\n",
       "    </tr>\n",
       "  </thead>\n",
       "  <tbody>\n",
       "    <tr>\n",
       "      <th>0</th>\n",
       "      <td>نیاوران</td>\n",
       "      <td>70</td>\n",
       "      <td>1401</td>\n",
       "      <td>1</td>\n",
       "      <td>11500000000</td>\n",
       "      <td>4</td>\n",
       "      <td>True</td>\n",
       "      <td>True</td>\n",
       "      <td>True</td>\n",
       "    </tr>\n",
       "    <tr>\n",
       "      <th>1</th>\n",
       "      <td>نیاوران</td>\n",
       "      <td>200</td>\n",
       "      <td>1401</td>\n",
       "      <td>3</td>\n",
       "      <td>34000000000</td>\n",
       "      <td>3</td>\n",
       "      <td>True</td>\n",
       "      <td>True</td>\n",
       "      <td>True</td>\n",
       "    </tr>\n",
       "    <tr>\n",
       "      <th>2</th>\n",
       "      <td>کوهک</td>\n",
       "      <td>138</td>\n",
       "      <td>1398</td>\n",
       "      <td>3</td>\n",
       "      <td>8419000000</td>\n",
       "      <td>10</td>\n",
       "      <td>True</td>\n",
       "      <td>True</td>\n",
       "      <td>True</td>\n",
       "    </tr>\n",
       "    <tr>\n",
       "      <th>3</th>\n",
       "      <td>جیحون</td>\n",
       "      <td>80</td>\n",
       "      <td>1395</td>\n",
       "      <td>2</td>\n",
       "      <td>3300000000</td>\n",
       "      <td>2</td>\n",
       "      <td>True</td>\n",
       "      <td>True</td>\n",
       "      <td>True</td>\n",
       "    </tr>\n",
       "    <tr>\n",
       "      <th>4</th>\n",
       "      <td>ظفر</td>\n",
       "      <td>120</td>\n",
       "      <td>1401</td>\n",
       "      <td>2</td>\n",
       "      <td>12240000000</td>\n",
       "      <td>6</td>\n",
       "      <td>True</td>\n",
       "      <td>True</td>\n",
       "      <td>True</td>\n",
       "    </tr>\n",
       "    <tr>\n",
       "      <th>...</th>\n",
       "      <td>...</td>\n",
       "      <td>...</td>\n",
       "      <td>...</td>\n",
       "      <td>...</td>\n",
       "      <td>...</td>\n",
       "      <td>...</td>\n",
       "      <td>...</td>\n",
       "      <td>...</td>\n",
       "      <td>...</td>\n",
       "    </tr>\n",
       "    <tr>\n",
       "      <th>30049</th>\n",
       "      <td>مسعودیه</td>\n",
       "      <td>68</td>\n",
       "      <td>1400</td>\n",
       "      <td>2</td>\n",
       "      <td>2350000000</td>\n",
       "      <td>4</td>\n",
       "      <td>True</td>\n",
       "      <td>True</td>\n",
       "      <td>True</td>\n",
       "    </tr>\n",
       "    <tr>\n",
       "      <th>30050</th>\n",
       "      <td>نارمک</td>\n",
       "      <td>135</td>\n",
       "      <td>1382</td>\n",
       "      <td>2</td>\n",
       "      <td>5390000000</td>\n",
       "      <td>1</td>\n",
       "      <td>True</td>\n",
       "      <td>True</td>\n",
       "      <td>True</td>\n",
       "    </tr>\n",
       "    <tr>\n",
       "      <th>30051</th>\n",
       "      <td>تهرانپارس شرقی</td>\n",
       "      <td>54</td>\n",
       "      <td>1398</td>\n",
       "      <td>1</td>\n",
       "      <td>3200000000</td>\n",
       "      <td>2</td>\n",
       "      <td>True</td>\n",
       "      <td>True</td>\n",
       "      <td>True</td>\n",
       "    </tr>\n",
       "    <tr>\n",
       "      <th>30052</th>\n",
       "      <td>قیطریه</td>\n",
       "      <td>105</td>\n",
       "      <td>1401</td>\n",
       "      <td>2</td>\n",
       "      <td>12600000000</td>\n",
       "      <td>3</td>\n",
       "      <td>True</td>\n",
       "      <td>True</td>\n",
       "      <td>True</td>\n",
       "    </tr>\n",
       "    <tr>\n",
       "      <th>30053</th>\n",
       "      <td>سهروردی</td>\n",
       "      <td>120</td>\n",
       "      <td>1401</td>\n",
       "      <td>3</td>\n",
       "      <td>9000000000</td>\n",
       "      <td>1</td>\n",
       "      <td>True</td>\n",
       "      <td>True</td>\n",
       "      <td>True</td>\n",
       "    </tr>\n",
       "  </tbody>\n",
       "</table>\n",
       "<p>30054 rows × 9 columns</p>\n",
       "</div>"
      ],
      "text/plain": [
       "               district  area  year  rooms        value  floor  elevator  \\\n",
       "0              نیاوران     70  1401      1  11500000000      4      True   \n",
       "1              نیاوران    200  1401      3  34000000000      3      True   \n",
       "2                 کوهک    138  1398      3   8419000000     10      True   \n",
       "3                جیحون     80  1395      2   3300000000      2      True   \n",
       "4                  ظفر    120  1401      2  12240000000      6      True   \n",
       "...                 ...   ...   ...    ...          ...    ...       ...   \n",
       "30049          مسعودیه     68  1400      2   2350000000      4      True   \n",
       "30050            نارمک    135  1382      2   5390000000      1      True   \n",
       "30051   تهرانپارس شرقی     54  1398      1   3200000000      2      True   \n",
       "30052           قیطریه    105  1401      2  12600000000      3      True   \n",
       "30053          سهروردی    120  1401      3   9000000000      1      True   \n",
       "\n",
       "       parking  warehouse  \n",
       "0         True       True  \n",
       "1         True       True  \n",
       "2         True       True  \n",
       "3         True       True  \n",
       "4         True       True  \n",
       "...        ...        ...  \n",
       "30049     True       True  \n",
       "30050     True       True  \n",
       "30051     True       True  \n",
       "30052     True       True  \n",
       "30053     True       True  \n",
       "\n",
       "[30054 rows x 9 columns]"
      ]
     },
     "execution_count": 69,
     "metadata": {},
     "output_type": "execute_result"
    }
   ],
   "source": [
    "df"
   ]
  },
  {
   "cell_type": "code",
   "execution_count": 70,
   "metadata": {},
   "outputs": [],
   "source": [
    "df.to_csv('dataset_divar_cleaned_V1.csv')"
   ]
  }
 ],
 "metadata": {
  "kernelspec": {
   "display_name": "env",
   "language": "python",
   "name": "python3"
  },
  "language_info": {
   "codemirror_mode": {
    "name": "ipython",
    "version": 3
   },
   "file_extension": ".py",
   "mimetype": "text/x-python",
   "name": "python",
   "nbconvert_exporter": "python",
   "pygments_lexer": "ipython3",
   "version": "3.10.5"
  },
  "orig_nbformat": 4,
  "vscode": {
   "interpreter": {
    "hash": "732bd7320ac67f3dcbddbbc25f847e9bf02b8b730a2e3135aa42da6c9b9b2a76"
   }
  }
 },
 "nbformat": 4,
 "nbformat_minor": 2
}
